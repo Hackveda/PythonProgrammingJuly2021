{
  "nbformat": 4,
  "nbformat_minor": 0,
  "metadata": {
    "colab": {
      "name": "numpy.pynb",
      "provenance": []
    },
    "kernelspec": {
      "name": "python3",
      "display_name": "Python 3"
    },
    "language_info": {
      "name": "python"
    }
  },
  "cells": [
    {
      "cell_type": "code",
      "metadata": {
        "colab": {
          "base_uri": "https://localhost:8080/"
        },
        "id": "SiUq61ZPzE7S",
        "outputId": "885ab301-e5b1-4dfe-8ada-6193f7cdf63e"
      },
      "source": [
        "!pip install numpy   # install numpy "
      ],
      "execution_count": 1,
      "outputs": [
        {
          "output_type": "stream",
          "text": [
            "Requirement already satisfied: numpy in /usr/local/lib/python3.7/dist-packages (1.19.5)\n"
          ],
          "name": "stdout"
        }
      ]
    },
    {
      "cell_type": "code",
      "metadata": {
        "id": "zPfxfb5Gz2f4"
      },
      "source": [
        "import numpy as np"
      ],
      "execution_count": 2,
      "outputs": []
    },
    {
      "cell_type": "code",
      "metadata": {
        "colab": {
          "base_uri": "https://localhost:8080/"
        },
        "id": "ecr_-buT0Iff",
        "outputId": "f0bdebd9-256b-431a-e348-25631b9d9515"
      },
      "source": [
        "a = np.arange(9) #\n",
        "a"
      ],
      "execution_count": 5,
      "outputs": [
        {
          "output_type": "execute_result",
          "data": {
            "text/plain": [
              "array([0, 1, 2, 3, 4, 5, 6, 7, 8])"
            ]
          },
          "metadata": {
            "tags": []
          },
          "execution_count": 5
        }
      ]
    },
    {
      "cell_type": "code",
      "metadata": {
        "colab": {
          "base_uri": "https://localhost:8080/"
        },
        "id": "thVeOuvy0nvD",
        "outputId": "22a9025c-ea28-4f66-e0e3-da06679e3e59"
      },
      "source": [
        "a.shape\n"
      ],
      "execution_count": 6,
      "outputs": [
        {
          "output_type": "execute_result",
          "data": {
            "text/plain": [
              "(9,)"
            ]
          },
          "metadata": {
            "tags": []
          },
          "execution_count": 6
        }
      ]
    },
    {
      "cell_type": "code",
      "metadata": {
        "colab": {
          "base_uri": "https://localhost:8080/"
        },
        "id": "U944y0Dn1AEx",
        "outputId": "2189d4d4-e744-4774-c221-c006e32db4dc"
      },
      "source": [
        "aa =a[np.newaxis , :] # print(a[1:])\n",
        "aa.shape"
      ],
      "execution_count": 9,
      "outputs": [
        {
          "output_type": "execute_result",
          "data": {
            "text/plain": [
              "(1, 9)"
            ]
          },
          "metadata": {
            "tags": []
          },
          "execution_count": 9
        }
      ]
    },
    {
      "cell_type": "code",
      "metadata": {
        "colab": {
          "base_uri": "https://localhost:8080/"
        },
        "id": "apVJaz082PKt",
        "outputId": "96505c21-5a0c-4502-a6b6-bdb521f4af91"
      },
      "source": [
        "arush = np.array([1,2,3]) # 1 x 3\n",
        "arush"
      ],
      "execution_count": 11,
      "outputs": [
        {
          "output_type": "execute_result",
          "data": {
            "text/plain": [
              "array([1, 2, 3])"
            ]
          },
          "metadata": {
            "tags": []
          },
          "execution_count": 11
        }
      ]
    },
    {
      "cell_type": "code",
      "metadata": {
        "colab": {
          "base_uri": "https://localhost:8080/"
        },
        "id": "cgQjB5rj2fQ4",
        "outputId": "5f260d9e-6452-43a5-fd8b-e163c52a48af"
      },
      "source": [
        "arush.shape\n"
      ],
      "execution_count": 14,
      "outputs": [
        {
          "output_type": "execute_result",
          "data": {
            "text/plain": [
              "(3,)"
            ]
          },
          "metadata": {
            "tags": []
          },
          "execution_count": 14
        }
      ]
    },
    {
      "cell_type": "code",
      "metadata": {
        "id": "80d7IQwl3tTB"
      },
      "source": [
        "#Numpy Array Operation and Declaration"
      ],
      "execution_count": null,
      "outputs": []
    },
    {
      "cell_type": "code",
      "metadata": {
        "colab": {
          "base_uri": "https://localhost:8080/"
        },
        "id": "y3pQqvyu2m-s",
        "outputId": "1a5fa492-af28-4950-d9f7-315ee8b9f34d"
      },
      "source": [
        "star = np.array([[1,2,3],[4,5,6]]) # 2 x 3\n",
        "star"
      ],
      "execution_count": 16,
      "outputs": [
        {
          "output_type": "execute_result",
          "data": {
            "text/plain": [
              "array([[1, 2, 3],\n",
              "       [4, 5, 6]])"
            ]
          },
          "metadata": {
            "tags": []
          },
          "execution_count": 16
        }
      ]
    },
    {
      "cell_type": "code",
      "metadata": {
        "colab": {
          "base_uri": "https://localhost:8080/"
        },
        "id": "MS6F0zWR3BY3",
        "outputId": "02e72fb8-cb68-4426-b542-5daff6b15550"
      },
      "source": [
        "amit = np.array([[1,2,3],[4,5,6],[7,8,9]])  # 3 x 3\n",
        "amit"
      ],
      "execution_count": 17,
      "outputs": [
        {
          "output_type": "execute_result",
          "data": {
            "text/plain": [
              "array([[1, 2, 3],\n",
              "       [4, 5, 6],\n",
              "       [7, 8, 9]])"
            ]
          },
          "metadata": {
            "tags": []
          },
          "execution_count": 17
        }
      ]
    },
    {
      "cell_type": "code",
      "metadata": {
        "colab": {
          "base_uri": "https://localhost:8080/"
        },
        "id": "81MVUBZ-98O9",
        "outputId": "4b21a052-8ceb-4a2b-9302-1bd9b7dc89b8"
      },
      "source": [
        "amit.size"
      ],
      "execution_count": 50,
      "outputs": [
        {
          "output_type": "execute_result",
          "data": {
            "text/plain": [
              "9"
            ]
          },
          "metadata": {
            "tags": []
          },
          "execution_count": 50
        }
      ]
    },
    {
      "cell_type": "code",
      "metadata": {
        "colab": {
          "base_uri": "https://localhost:8080/"
        },
        "id": "rer3lBUe35pv",
        "outputId": "73fda44b-3bb8-4bad-81d2-05a375e91ed3"
      },
      "source": [
        "print(amit[0][2]) # accessing specific element"
      ],
      "execution_count": 22,
      "outputs": [
        {
          "output_type": "stream",
          "text": [
            "3\n"
          ],
          "name": "stdout"
        }
      ]
    },
    {
      "cell_type": "code",
      "metadata": {
        "id": "0ONNJxtl4Yte"
      },
      "source": [
        "print(amit[0])# accessing specific row "
      ],
      "execution_count": null,
      "outputs": []
    },
    {
      "cell_type": "code",
      "metadata": {
        "colab": {
          "base_uri": "https://localhost:8080/"
        },
        "id": "3JrDo8ct4dJ5",
        "outputId": "68380077-d7f4-4eb1-cc27-6626b39360e5"
      },
      "source": [
        "np.zeros(9) # creating array with multiple zeros element "
      ],
      "execution_count": 24,
      "outputs": [
        {
          "output_type": "execute_result",
          "data": {
            "text/plain": [
              "array([0., 0., 0., 0., 0., 0., 0., 0., 0.])"
            ]
          },
          "metadata": {
            "tags": []
          },
          "execution_count": 24
        }
      ]
    },
    {
      "cell_type": "code",
      "metadata": {
        "colab": {
          "base_uri": "https://localhost:8080/"
        },
        "id": "dIN8Csqo5B2R",
        "outputId": "0d629838-992d-49ac-cb53-21d3982ca252"
      },
      "source": [
        "np.zeros_like(amit)"
      ],
      "execution_count": 28,
      "outputs": [
        {
          "output_type": "execute_result",
          "data": {
            "text/plain": [
              "array([[0, 0, 0],\n",
              "       [0, 0, 0],\n",
              "       [0, 0, 0]])"
            ]
          },
          "metadata": {
            "tags": []
          },
          "execution_count": 28
        }
      ]
    },
    {
      "cell_type": "code",
      "metadata": {
        "colab": {
          "base_uri": "https://localhost:8080/"
        },
        "id": "9QP5l1da5kUN",
        "outputId": "29020def-2a90-4bd1-fa60-59813b0aded4"
      },
      "source": [
        "np.ones(3)"
      ],
      "execution_count": 29,
      "outputs": [
        {
          "output_type": "execute_result",
          "data": {
            "text/plain": [
              "array([1., 1., 1.])"
            ]
          },
          "metadata": {
            "tags": []
          },
          "execution_count": 29
        }
      ]
    },
    {
      "cell_type": "code",
      "metadata": {
        "colab": {
          "base_uri": "https://localhost:8080/"
        },
        "id": "m4_j8XGJ5prG",
        "outputId": "363bedf7-26f6-4e28-f72e-cd26733935b6"
      },
      "source": [
        "np.empty(5) # random value based on state and memory"
      ],
      "execution_count": 31,
      "outputs": [
        {
          "output_type": "execute_result",
          "data": {
            "text/plain": [
              "array([0.  , 0.25, 0.5 , 0.75, 1.  ])"
            ]
          },
          "metadata": {
            "tags": []
          },
          "execution_count": 31
        }
      ]
    },
    {
      "cell_type": "code",
      "metadata": {
        "colab": {
          "base_uri": "https://localhost:8080/"
        },
        "id": "PD-CpfxZ6i1p",
        "outputId": "3e435bfb-0099-4e29-be35-22756a7edf93"
      },
      "source": [
        "np.arange(1, 11, 2)"
      ],
      "execution_count": 32,
      "outputs": [
        {
          "output_type": "execute_result",
          "data": {
            "text/plain": [
              "array([1, 3, 5, 7, 9])"
            ]
          },
          "metadata": {
            "tags": []
          },
          "execution_count": 32
        }
      ]
    },
    {
      "cell_type": "code",
      "metadata": {
        "colab": {
          "base_uri": "https://localhost:8080/"
        },
        "id": "RsAzJmHA6rse",
        "outputId": "222e92b5-c983-4bfc-8fb6-8241719b6c4b"
      },
      "source": [
        "np.arange(2, 20 , 3)"
      ],
      "execution_count": 34,
      "outputs": [
        {
          "output_type": "execute_result",
          "data": {
            "text/plain": [
              "array([ 2,  5,  8, 11, 14, 17])"
            ]
          },
          "metadata": {
            "tags": []
          },
          "execution_count": 34
        }
      ]
    },
    {
      "cell_type": "code",
      "metadata": {
        "colab": {
          "base_uri": "https://localhost:8080/"
        },
        "id": "cOr9u0Rq7H0r",
        "outputId": "43b92796-37af-45bd-fdd8-e890f8906748"
      },
      "source": [
        "np.linspace(1, 15, num=10)"
      ],
      "execution_count": 36,
      "outputs": [
        {
          "output_type": "execute_result",
          "data": {
            "text/plain": [
              "array([ 1.        ,  2.55555556,  4.11111111,  5.66666667,  7.22222222,\n",
              "        8.77777778, 10.33333333, 11.88888889, 13.44444444, 15.        ])"
            ]
          },
          "metadata": {
            "tags": []
          },
          "execution_count": 36
        }
      ]
    },
    {
      "cell_type": "code",
      "metadata": {
        "colab": {
          "base_uri": "https://localhost:8080/"
        },
        "id": "7PoE6xT87hfw",
        "outputId": "2c1c65ab-4d59-4925-d67d-41ead2a7bf19"
      },
      "source": [
        "np.ones(10,dtype=np.int64)"
      ],
      "execution_count": 41,
      "outputs": [
        {
          "output_type": "execute_result",
          "data": {
            "text/plain": [
              "array([1, 1, 1, 1, 1, 1, 1, 1, 1, 1])"
            ]
          },
          "metadata": {
            "tags": []
          },
          "execution_count": 41
        }
      ]
    },
    {
      "cell_type": "code",
      "metadata": {
        "id": "wLsiHLlo8pU-"
      },
      "source": [
        "hack = np.array([10,8,6,4,2,12,34,56,7,8,92,39])"
      ],
      "execution_count": 44,
      "outputs": []
    },
    {
      "cell_type": "code",
      "metadata": {
        "colab": {
          "base_uri": "https://localhost:8080/"
        },
        "id": "YzKCXlFg8kx5",
        "outputId": "79421505-6888-4c30-fa0d-11f36384c1b2"
      },
      "source": [
        "np.sort(hack)"
      ],
      "execution_count": 45,
      "outputs": [
        {
          "output_type": "execute_result",
          "data": {
            "text/plain": [
              "array([ 2,  4,  6,  7,  8,  8, 10, 12, 34, 39, 56, 92])"
            ]
          },
          "metadata": {
            "tags": []
          },
          "execution_count": 45
        }
      ]
    },
    {
      "cell_type": "code",
      "metadata": {
        "colab": {
          "base_uri": "https://localhost:8080/"
        },
        "id": "tNLDTbBb9Jfp",
        "outputId": "d9460128-4bc4-49a9-b4bf-ab4f6cd293a9"
      },
      "source": [
        "c = np.array([1,2,3])\n",
        "d = np.array([6,8,9])\n",
        "e = np.concatenate((c,d))\n",
        "print(e)"
      ],
      "execution_count": 46,
      "outputs": [
        {
          "output_type": "stream",
          "text": [
            "[1 2 3 6 8 9]\n"
          ],
          "name": "stdout"
        }
      ]
    },
    {
      "cell_type": "code",
      "metadata": {
        "colab": {
          "base_uri": "https://localhost:8080/"
        },
        "id": "p0EiBIb19vak",
        "outputId": "ea015a1d-bbef-4277-fbd9-d98ef0c13987"
      },
      "source": [
        "amit.ndim"
      ],
      "execution_count": 49,
      "outputs": [
        {
          "output_type": "execute_result",
          "data": {
            "text/plain": [
              "2"
            ]
          },
          "metadata": {
            "tags": []
          },
          "execution_count": 49
        }
      ]
    },
    {
      "cell_type": "code",
      "metadata": {
        "colab": {
          "base_uri": "https://localhost:8080/"
        },
        "id": "7k4E7vTf9dsP",
        "outputId": "09b69e21-9c74-43db-a264-4cd0066bbbf4"
      },
      "source": [
        "e.ndim"
      ],
      "execution_count": 48,
      "outputs": [
        {
          "output_type": "execute_result",
          "data": {
            "text/plain": [
              "1"
            ]
          },
          "metadata": {
            "tags": []
          },
          "execution_count": 48
        }
      ]
    },
    {
      "cell_type": "code",
      "metadata": {
        "colab": {
          "base_uri": "https://localhost:8080/"
        },
        "id": "aRy4jQLN-A-6",
        "outputId": "9a6f09a2-88bb-4052-c71b-0714ee4cbcce"
      },
      "source": [
        "hack.reshape(3,4)"
      ],
      "execution_count": 51,
      "outputs": [
        {
          "output_type": "execute_result",
          "data": {
            "text/plain": [
              "array([[10,  8,  6,  4],\n",
              "       [ 2, 12, 34, 56],\n",
              "       [ 7,  8, 92, 39]])"
            ]
          },
          "metadata": {
            "tags": []
          },
          "execution_count": 51
        }
      ]
    },
    {
      "cell_type": "code",
      "metadata": {
        "colab": {
          "base_uri": "https://localhost:8080/"
        },
        "id": "cxHwA2c5_06K",
        "outputId": "bdd60f88-f5eb-48e1-8005-cda4dc39f509"
      },
      "source": [
        "hack"
      ],
      "execution_count": 52,
      "outputs": [
        {
          "output_type": "execute_result",
          "data": {
            "text/plain": [
              "array([10,  8,  6,  4,  2, 12, 34, 56,  7,  8, 92, 39])"
            ]
          },
          "metadata": {
            "tags": []
          },
          "execution_count": 52
        }
      ]
    },
    {
      "cell_type": "code",
      "metadata": {
        "colab": {
          "base_uri": "https://localhost:8080/"
        },
        "id": "lq1lvp7L_zfO",
        "outputId": "91c06da3-81f4-4659-9b53-5e105e91505a"
      },
      "source": [
        "hack[1]\n"
      ],
      "execution_count": 53,
      "outputs": [
        {
          "output_type": "execute_result",
          "data": {
            "text/plain": [
              "8"
            ]
          },
          "metadata": {
            "tags": []
          },
          "execution_count": 53
        }
      ]
    },
    {
      "cell_type": "code",
      "metadata": {
        "colab": {
          "base_uri": "https://localhost:8080/"
        },
        "id": "WsqBC6xh_-M9",
        "outputId": "e01c1d1c-15ff-4b8e-fcba-b671d6eaa0cb"
      },
      "source": [
        "hack[0:]"
      ],
      "execution_count": 54,
      "outputs": [
        {
          "output_type": "execute_result",
          "data": {
            "text/plain": [
              "array([10,  8,  6,  4,  2, 12, 34, 56,  7,  8, 92, 39])"
            ]
          },
          "metadata": {
            "tags": []
          },
          "execution_count": 54
        }
      ]
    },
    {
      "cell_type": "code",
      "metadata": {
        "colab": {
          "base_uri": "https://localhost:8080/"
        },
        "id": "taNuIW9tACZF",
        "outputId": "98bb0a6c-5381-4121-b84f-cc281e4bc611"
      },
      "source": [
        "hack[:-1]"
      ],
      "execution_count": 56,
      "outputs": [
        {
          "output_type": "execute_result",
          "data": {
            "text/plain": [
              "array([10,  8,  6,  4,  2, 12, 34, 56,  7,  8, 92])"
            ]
          },
          "metadata": {
            "tags": []
          },
          "execution_count": 56
        }
      ]
    },
    {
      "cell_type": "code",
      "metadata": {
        "colab": {
          "base_uri": "https://localhost:8080/"
        },
        "id": "ihACNeo3BDY_",
        "outputId": "e727c0af-fa38-49a5-bf4d-32c4c7990156"
      },
      "source": [
        "hack[3:5]"
      ],
      "execution_count": 62,
      "outputs": [
        {
          "output_type": "execute_result",
          "data": {
            "text/plain": [
              "array([4, 2])"
            ]
          },
          "metadata": {
            "tags": []
          },
          "execution_count": 62
        }
      ]
    },
    {
      "cell_type": "code",
      "metadata": {
        "colab": {
          "base_uri": "https://localhost:8080/"
        },
        "id": "NDH-UJamApaW",
        "outputId": "fa9357b0-d319-4e43-8e75-74756001f165"
      },
      "source": [
        "hack[3:10]"
      ],
      "execution_count": 61,
      "outputs": [
        {
          "output_type": "execute_result",
          "data": {
            "text/plain": [
              "array([ 4,  2, 12, 34, 56,  7,  8])"
            ]
          },
          "metadata": {
            "tags": []
          },
          "execution_count": 61
        }
      ]
    },
    {
      "cell_type": "code",
      "metadata": {
        "colab": {
          "base_uri": "https://localhost:8080/"
        },
        "id": "VZrzwvJoANtB",
        "outputId": "c3147e9f-032a-4bc1-d7a3-5a2b3876972a"
      },
      "source": [
        "hack[-7:]"
      ],
      "execution_count": 59,
      "outputs": [
        {
          "output_type": "execute_result",
          "data": {
            "text/plain": [
              "array([12, 34, 56,  7,  8, 92, 39])"
            ]
          },
          "metadata": {
            "tags": []
          },
          "execution_count": 59
        }
      ]
    },
    {
      "cell_type": "code",
      "metadata": {
        "colab": {
          "base_uri": "https://localhost:8080/"
        },
        "id": "fEhuXDOJBNY2",
        "outputId": "6f265efb-2b6e-4a11-88aa-6f7d9e43d853"
      },
      "source": [
        "print(hack[hack % 2 == 0])"
      ],
      "execution_count": 63,
      "outputs": [
        {
          "output_type": "stream",
          "text": [
            "[10  8  6  4  2 12 34 56  8 92]\n"
          ],
          "name": "stdout"
        }
      ]
    },
    {
      "cell_type": "code",
      "metadata": {
        "colab": {
          "base_uri": "https://localhost:8080/"
        },
        "id": "J53RwwniBNh4",
        "outputId": "b1864044-5943-4cef-c4c4-e7ca293fe139"
      },
      "source": [
        "print(hack[hack > 5])"
      ],
      "execution_count": 64,
      "outputs": [
        {
          "output_type": "stream",
          "text": [
            "[10  8  6 12 34 56  7  8 92 39]\n"
          ],
          "name": "stdout"
        }
      ]
    },
    {
      "cell_type": "code",
      "metadata": {
        "colab": {
          "base_uri": "https://localhost:8080/"
        },
        "id": "z3IUAVI5Bl8e",
        "outputId": "5c2e8ca7-8fe3-453e-ec2a-589ce48acfd8"
      },
      "source": [
        "print(hack[hack < 5])\n"
      ],
      "execution_count": 65,
      "outputs": [
        {
          "output_type": "stream",
          "text": [
            "[4 2]\n"
          ],
          "name": "stdout"
        }
      ]
    },
    {
      "cell_type": "code",
      "metadata": {
        "colab": {
          "base_uri": "https://localhost:8080/"
        },
        "id": "uxqYm1UqBrPT",
        "outputId": "52d18409-fbff-45a9-8baa-d6f1a01b991f"
      },
      "source": [
        "print(hack[(hack > 10) | (hack >15)])  # Or operator | , & and operator is representing with"
      ],
      "execution_count": 71,
      "outputs": [
        {
          "output_type": "stream",
          "text": [
            "[12 34 56 92 39]\n"
          ],
          "name": "stdout"
        }
      ]
    }
  ]
}