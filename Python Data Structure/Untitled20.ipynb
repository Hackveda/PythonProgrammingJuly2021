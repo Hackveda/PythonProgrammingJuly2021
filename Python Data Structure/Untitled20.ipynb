{
  "nbformat": 4,
  "nbformat_minor": 0,
  "metadata": {
    "colab": {
      "name": "Untitled20.ipynb",
      "provenance": []
    },
    "kernelspec": {
      "name": "python3",
      "display_name": "Python 3"
    },
    "language_info": {
      "name": "python"
    }
  },
  "cells": [
    {
      "cell_type": "code",
      "metadata": {
        "colab": {
          "base_uri": "https://localhost:8080/"
        },
        "id": "DhiwwEuNkx6b",
        "outputId": "0374497b-f87b-48f1-f481-890c6e7fab16"
      },
      "source": [
        "for i,v in enumerate([1,'a',2]):\n",
        "    print(i,v)\n",
        "   "
      ],
      "execution_count": 1,
      "outputs": [
        {
          "output_type": "stream",
          "text": [
            "0 1\n",
            "1 a\n",
            "2 2\n"
          ],
          "name": "stdout"
        }
      ]
    },
    {
      "cell_type": "code",
      "metadata": {
        "id": "jQQGHsy0lO_S"
      },
      "source": [
        "knights = {'gallahad': 'the pure', 'robin': 'the brave'}"
      ],
      "execution_count": 2,
      "outputs": []
    },
    {
      "cell_type": "code",
      "metadata": {
        "colab": {
          "base_uri": "https://localhost:8080/"
        },
        "id": "ByzqB9g5lTfQ",
        "outputId": "3af04560-522e-478e-9cdf-125d1b24bfff"
      },
      "source": [
        "for k,v in knights.items():\n",
        "    print(k, v)"
      ],
      "execution_count": 4,
      "outputs": [
        {
          "output_type": "stream",
          "text": [
            "gallahad the pure\n",
            "robin the brave\n"
          ],
          "name": "stdout"
        }
      ]
    },
    {
      "cell_type": "code",
      "metadata": {
        "id": "2GxQUH6eo1N0"
      },
      "source": [
        "1.989089090890891249217348972328975812528652816537456374657364765345634656345634\n",
        "\n",
        "NAN\n",
        "\n",
        "if a == NAN\n",
        "   "
      ],
      "execution_count": null,
      "outputs": []
    }
  ]
}