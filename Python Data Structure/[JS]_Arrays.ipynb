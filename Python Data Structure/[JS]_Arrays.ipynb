{
  "nbformat": 4,
  "nbformat_minor": 0,
  "metadata": {
    "kernelspec": {
      "display_name": "Javascript (Node.js)",
      "language": "javascript",
      "name": "javascript"
    },
    "language_info": {
      "file_extension": ".js",
      "mimetype": "application/javascript",
      "name": "javascript",
      "version": "10.15.0"
    },
    "colab": {
      "name": "[JS] Arrays.ipynb",
      "provenance": []
    }
  },
  "cells": [
    {
      "cell_type": "markdown",
      "metadata": {
        "id": "VfAt4GGOWJTr"
      },
      "source": [
        "## Reverse String\n",
        "\n",
        "## Hackveda  ##\n",
        "\n",
        "## Amit Dhomne\n",
        "\n"
      ]
    },
    {
      "cell_type": "code",
      "metadata": {
        "id": "MA-8W7NFWJTt",
        "outputId": "d4411a63-39ea-4e49-aae4-a77da6ffea85"
      },
      "source": [
        "var a = \"hello world\"\n",
        "a"
      ],
      "execution_count": null,
      "outputs": [
        {
          "output_type": "execute_result",
          "data": {
            "text/plain": [
              "'hello world'"
            ]
          },
          "metadata": {
            "tags": []
          },
          "execution_count": 1
        }
      ]
    },
    {
      "cell_type": "code",
      "metadata": {
        "id": "9dWqbajuZj0i"
      },
      "source": [
        "t = 1,2,'swarnita'"
      ],
      "execution_count": 2,
      "outputs": []
    },
    {
      "cell_type": "code",
      "metadata": {
        "id": "lbPUSDyobCzP"
      },
      "source": [
        "s = t"
      ],
      "execution_count": 8,
      "outputs": []
    },
    {
      "cell_type": "code",
      "metadata": {
        "colab": {
          "base_uri": "https://localhost:8080/"
        },
        "id": "lm1AlhdxbFUx",
        "outputId": "70d16130-93c3-4a85-e2d2-26f7d88ca175"
      },
      "source": [
        "s"
      ],
      "execution_count": 9,
      "outputs": [
        {
          "output_type": "execute_result",
          "data": {
            "text/plain": [
              "(1, 2, 'swarnita')"
            ]
          },
          "metadata": {
            "tags": []
          },
          "execution_count": 9
        }
      ]
    },
    {
      "cell_type": "code",
      "metadata": {
        "id": "ful9I4VScAnW"
      },
      "source": [
        "p = [1,2,\"swarnita\",'a']"
      ],
      "execution_count": 13,
      "outputs": []
    },
    {
      "cell_type": "code",
      "metadata": {
        "colab": {
          "base_uri": "https://localhost:8080/"
        },
        "id": "-P5g_eq8cGUz",
        "outputId": "e9befc8a-5eae-4f0b-8ea2-4eb1f3c392e8"
      },
      "source": [
        "p"
      ],
      "execution_count": 14,
      "outputs": [
        {
          "output_type": "execute_result",
          "data": {
            "text/plain": [
              "[1, 2, 'swarnita', 'a']"
            ]
          },
          "metadata": {
            "tags": []
          },
          "execution_count": 14
        }
      ]
    },
    {
      "cell_type": "code",
      "metadata": {
        "colab": {
          "base_uri": "https://localhost:8080/"
        },
        "id": "cwuPWYnLcIZu",
        "outputId": "17a4af4c-dff6-4468-e8e8-544532270a4f"
      },
      "source": [
        "type(p[3])"
      ],
      "execution_count": 16,
      "outputs": [
        {
          "output_type": "execute_result",
          "data": {
            "text/plain": [
              "str"
            ]
          },
          "metadata": {
            "tags": []
          },
          "execution_count": 16
        }
      ]
    },
    {
      "cell_type": "code",
      "metadata": {
        "colab": {
          "base_uri": "https://localhost:8080/"
        },
        "id": "UDf6184zZojL",
        "outputId": "0c6737ce-3613-4a9f-9d1f-8ba81a793905"
      },
      "source": [
        "t"
      ],
      "execution_count": 3,
      "outputs": [
        {
          "output_type": "execute_result",
          "data": {
            "text/plain": [
              "(1, 2, 'swarnita')"
            ]
          },
          "metadata": {
            "tags": []
          },
          "execution_count": 3
        }
      ]
    },
    {
      "cell_type": "code",
      "metadata": {
        "colab": {
          "base_uri": "https://localhost:8080/"
        },
        "id": "Ad_IM8__Zyk6",
        "outputId": "99549435-bd0b-4008-b0f2-5e563da774da"
      },
      "source": [
        "type(t)\n"
      ],
      "execution_count": 5,
      "outputs": [
        {
          "output_type": "execute_result",
          "data": {
            "text/plain": [
              "tuple"
            ]
          },
          "metadata": {
            "tags": []
          },
          "execution_count": 5
        }
      ]
    },
    {
      "cell_type": "code",
      "metadata": {
        "colab": {
          "base_uri": "https://localhost:8080/"
        },
        "id": "wiQ0qZhzaE6-",
        "outputId": "eafdfe49-dc33-401b-f91d-bbefb4490418"
      },
      "source": [
        "t[0]"
      ],
      "execution_count": 6,
      "outputs": [
        {
          "output_type": "execute_result",
          "data": {
            "text/plain": [
              "1"
            ]
          },
          "metadata": {
            "tags": []
          },
          "execution_count": 6
        }
      ]
    },
    {
      "cell_type": "code",
      "metadata": {
        "id": "OO0wJ9PFigzI"
      },
      "source": [
        "knights = {'gallahad': 'the pure', 'robin': 'the brave'}\n",
        "      "
      ],
      "execution_count": 17,
      "outputs": []
    },
    {
      "cell_type": "code",
      "metadata": {
        "colab": {
          "base_uri": "https://localhost:8080/"
        },
        "id": "JwOF8hQTireA",
        "outputId": "b7e9c818-36e3-483d-aa5e-738f4e1e4ef0"
      },
      "source": [
        "for k,v in knights.items():\n",
        "    print(k, v)"
      ],
      "execution_count": 25,
      "outputs": [
        {
          "output_type": "stream",
          "text": [
            "gallahad the pure\n",
            "robin the brave\n"
          ],
          "name": "stdout"
        }
      ]
    },
    {
      "cell_type": "code",
      "metadata": {
        "colab": {
          "base_uri": "https://localhost:8080/"
        },
        "id": "1PSSdoKbkSlH",
        "outputId": "8f4f1e63-bd47-48a0-edd6-6a2f468742fe"
      },
      "source": [
        "for i,v in enumerate([1, 2,'swarnita']):\n",
        "    print(i,v)\n"
      ],
      "execution_count": 27,
      "outputs": [
        {
          "output_type": "stream",
          "text": [
            "0 1\n",
            "1 2\n",
            "2 swarnita\n"
          ],
          "name": "stdout"
        }
      ]
    },
    {
      "cell_type": "code",
      "metadata": {
        "colab": {
          "base_uri": "https://localhost:8080/",
          "height": 162
        },
        "id": "Aw1EfDcYaKsC",
        "outputId": "e6931f87-a944-452b-b6db-cb33a208888f"
      },
      "source": [
        "t[0]= 0"
      ],
      "execution_count": 7,
      "outputs": [
        {
          "output_type": "error",
          "ename": "TypeError",
          "evalue": "ignored",
          "traceback": [
            "\u001b[0;31m---------------------------------------------------------------------------\u001b[0m",
            "\u001b[0;31mTypeError\u001b[0m                                 Traceback (most recent call last)",
            "\u001b[0;32m<ipython-input-7-554382431f78>\u001b[0m in \u001b[0;36m<module>\u001b[0;34m()\u001b[0m\n\u001b[0;32m----> 1\u001b[0;31m \u001b[0mt\u001b[0m\u001b[0;34m[\u001b[0m\u001b[0;36m0\u001b[0m\u001b[0;34m]\u001b[0m\u001b[0;34m=\u001b[0m \u001b[0;36m0\u001b[0m\u001b[0;34m\u001b[0m\u001b[0;34m\u001b[0m\u001b[0m\n\u001b[0m",
            "\u001b[0;31mTypeError\u001b[0m: 'tuple' object does not support item assignment"
          ]
        }
      ]
    },
    {
      "cell_type": "code",
      "metadata": {
        "id": "YFZ84SSmWJTu"
      },
      "source": [
        "function rev(str){\n",
        "    var temp = []\n",
        "    for (i=str.length-1;i>=0;i--){\n",
        "        temp.push(str[i])\n",
        "    }\n",
        "    return temp.join(\"\");\n",
        "}"
      ],
      "execution_count": null,
      "outputs": []
    },
    {
      "cell_type": "code",
      "metadata": {
        "id": "GfkMxpB-WJTv",
        "outputId": "18743de3-c62c-44a1-c66c-c3151b6717e5"
      },
      "source": [
        "rev(a)"
      ],
      "execution_count": null,
      "outputs": [
        {
          "output_type": "execute_result",
          "data": {
            "text/plain": [
              "'dlrow olleh'"
            ]
          },
          "metadata": {
            "tags": []
          },
          "execution_count": 18
        }
      ]
    },
    {
      "cell_type": "markdown",
      "metadata": {
        "id": "Jhz8RKhbWJTv"
      },
      "source": [
        "## Merge Sorted Arrays"
      ]
    },
    {
      "cell_type": "code",
      "metadata": {
        "id": "ipBEqafqWJTv"
      },
      "source": [
        "function merge(arr1,arr2){\n",
        "    res = []\n",
        "    a = b = 0;\n",
        "    for( var i = 0; i < (arr1.length+arr2.length); i++){\n",
        "        if(arr1[a]!== undefined && arr2[b]!== undefined){\n",
        "            if(arr1[a]<=arr2[b]){\n",
        "                res.push(arr1[a]);\n",
        "                a++\n",
        "            }else{\n",
        "                res.push(arr2[b]);\n",
        "                b++\n",
        "            }\n",
        "        }else{\n",
        "            if(arr2[b] === undefined){\n",
        "                for(var i = a;i < arr1.length; i ++)\n",
        "                    res.push(arr1[i]);\n",
        "            }else{\n",
        "                for(var i = b;i < arr2.length; i ++)\n",
        "                    res.push(arr2[i]);\n",
        "            }\n",
        "            break;\n",
        "        }\n",
        "    }\n",
        "    return res\n",
        "}"
      ],
      "execution_count": null,
      "outputs": []
    },
    {
      "cell_type": "code",
      "metadata": {
        "id": "rBm-QVSMWJTw",
        "outputId": "44f201e5-12da-4b90-e18f-ac883ef6f424"
      },
      "source": [
        "merge([0,3,40],[2,4])"
      ],
      "execution_count": null,
      "outputs": [
        {
          "output_type": "execute_result",
          "data": {
            "text/plain": [
              "[ 0, 2, 3, 4, 40 ]"
            ]
          },
          "metadata": {
            "tags": []
          },
          "execution_count": 15
        }
      ]
    },
    {
      "cell_type": "code",
      "metadata": {
        "id": "znuA2EqcWJTw"
      },
      "source": [
        ""
      ],
      "execution_count": null,
      "outputs": []
    }
  ]
}