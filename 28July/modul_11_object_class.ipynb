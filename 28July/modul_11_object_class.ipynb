{
  "nbformat": 4,
  "nbformat_minor": 0,
  "metadata": {
    "kernelspec": {
      "display_name": "Python 3",
      "language": "python",
      "name": "python3"
    },
    "language_info": {
      "codemirror_mode": {
        "name": "ipython",
        "version": 3
      },
      "file_extension": ".py",
      "mimetype": "text/x-python",
      "name": "python",
      "nbconvert_exporter": "python",
      "pygments_lexer": "ipython3",
      "version": "3.7.7"
    },
    "colab": {
      "name": "modul-11-object-class.ipynb",
      "provenance": []
    }
  },
  "cells": [
    {
      "cell_type": "code",
      "metadata": {
        "id": "IWVh2wOddisE"
      },
      "source": [
        "class Employee:\n",
        "    'Common base class for all employees'\n",
        "    empCount = 0\n",
        "    def __init__(self, name, salary):\n",
        "        self.name = name\n",
        "        self.salary = salary\n",
        "        Employee.empCount += 1    \n",
        "    def displayCount(self):\n",
        "        print(\"Total Employee %d\" %Employee.empCount)\n",
        "    def displayEmployee(self):\n",
        "        print(\"Name : \", self.name,  \", Salary: \", self.salary)"
      ],
      "execution_count": null,
      "outputs": []
    },
    {
      "cell_type": "code",
      "metadata": {
        "id": "wgoBN5rvdisF"
      },
      "source": [
        "#This would create first object of Employee class\n",
        "emp1 = Employee(\"Zara\", 2000)\n",
        "#This would create second object of Employee class\n",
        "emp2 = Employee(\"Manni\", 5000)"
      ],
      "execution_count": null,
      "outputs": []
    },
    {
      "cell_type": "code",
      "metadata": {
        "id": "X1U-CAkjdisG",
        "outputId": "2b778e97-519a-4631-c172-f8bf598103fc"
      },
      "source": [
        "emp1.displayEmployee()\n",
        "emp2.displayEmployee()\n",
        "print (\"Total Employee %d\" % Employee.empCount)"
      ],
      "execution_count": null,
      "outputs": [
        {
          "output_type": "stream",
          "text": [
            "Name :  Zara , Salary:  2000\n",
            "Name :  Manni , Salary:  5000\n",
            "Total Employee 2\n"
          ],
          "name": "stdout"
        }
      ]
    },
    {
      "cell_type": "code",
      "metadata": {
        "id": "BhK6MDnudisH",
        "outputId": "0d8a961d-c142-4ec9-b0ea-7316b419af51"
      },
      "source": [
        "class Employee:\n",
        "    'Common base class for all employees'\n",
        "    empCount = 0\n",
        "    \n",
        "    def __init__(self, name, salary):\n",
        "        self.name = name\n",
        "        self.salary = salary\n",
        "        Employee.empCount += 1\n",
        "    \n",
        "    def displayCount(self):\n",
        "        print(\"Total Employee %d\" % Employee.empCount)\n",
        "        \n",
        "    def displayEmployee(self):\n",
        "        print (\"Name : \", self.name,  \", Salary: \", self.salary)\n",
        "\n",
        "\n",
        "#This would create first object of Employee class\"\n",
        "emp1 = Employee(\"Zara\", 2000)\n",
        "#This would create second object of Employee class\"\n",
        "emp2 = Employee(\"Manni\", 5000)\n",
        "emp1.displayEmployee()\n",
        "emp2.displayEmployee()\n",
        "print (\"Total Employee %d\" % Employee.empCount)"
      ],
      "execution_count": null,
      "outputs": [
        {
          "output_type": "stream",
          "text": [
            "Name :  Zara , Salary:  2000\n",
            "Name :  Manni , Salary:  5000\n",
            "Total Employee 2\n"
          ],
          "name": "stdout"
        }
      ]
    },
    {
      "cell_type": "code",
      "metadata": {
        "id": "10aVbGj5disI",
        "outputId": "2d842db2-b2c4-4a01-e114-bc214451db83"
      },
      "source": [
        "class Person:\n",
        "    def __init__(self, name, age):\n",
        "        self.name = name\n",
        "        self.age = age\n",
        "    \n",
        "    def myfunc(self):\n",
        "        print(\"Helo nama saya: \",self.name)\n",
        "        print(\"Umur saya: \",self.age)\n",
        "\n",
        "p1 = Person(\"Budi\",19)\n",
        "p1.myfunc()"
      ],
      "execution_count": null,
      "outputs": [
        {
          "output_type": "stream",
          "text": [
            "Helo nama saya:  Budi\n",
            "Umur saya:  19\n"
          ],
          "name": "stdout"
        }
      ]
    }
  ]
}