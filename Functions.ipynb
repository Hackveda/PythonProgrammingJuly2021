{
  "nbformat": 4,
  "nbformat_minor": 0,
  "metadata": {
    "kernelspec": {
      "display_name": "Python 3",
      "language": "python",
      "name": "python3"
    },
    "language_info": {
      "codemirror_mode": {
        "name": "ipython",
        "version": 3
      },
      "file_extension": ".py",
      "mimetype": "text/x-python",
      "name": "python",
      "nbconvert_exporter": "python",
      "pygments_lexer": "ipython3",
      "version": "3.8.3"
    },
    "colab": {
      "name": "Functions.ipynb",
      "provenance": []
    }
  },
  "cells": [
    {
      "cell_type": "markdown",
      "metadata": {
        "id": "opF8q2-Ers_m"
      },
      "source": [
        "**Created by Amit Dhomne**\n",
        "\n",
        "**Functions**\n",
        "\n",
        "**08 of July, 2021**"
      ]
    },
    {
      "cell_type": "markdown",
      "metadata": {
        "id": "OCkJ-uzRrs_w"
      },
      "source": [
        "## Content\n",
        "\n",
        "- Intro to Functions\n",
        "- return()\n",
        "- Number of Arguments\n",
        "    - Arbitrary Arguments, *args\n",
        "    - Arbitrary Keyword Arguments, **kwargs\n",
        "- Giving output with Information\n",
        "- Functions that have 2 parameters\n",
        "- Predefined Parameters in Functions\n",
        "- Local and Global Variables\n",
        "- Changing global variables in local area\n",
        "- Pass Statement"
      ]
    },
    {
      "cell_type": "markdown",
      "metadata": {
        "id": "w_tWmbKqrs_y"
      },
      "source": [
        "## Intro to Functions\n",
        "\n",
        "A function is a block of code which only runs when it is called.\n",
        "\n",
        "You can pass data, known as parameters, into a function.\n",
        "\n",
        "A function can return data as a result.\n",
        "\n",
        "Less code for same transactions."
      ]
    },
    {
      "cell_type": "code",
      "metadata": {
        "id": "ChfgVkkYrs_1",
        "outputId": "3e78f368-6251-4caf-aec6-893d86a46720"
      },
      "source": [
        "print(\"Intro to Functions\") # print() is also a function"
      ],
      "execution_count": null,
      "outputs": [
        {
          "output_type": "stream",
          "text": [
            "Intro to Functions\n"
          ],
          "name": "stdout"
        }
      ]
    },
    {
      "cell_type": "code",
      "metadata": {
        "id": "GpRsbBCors_4"
      },
      "source": [
        "?print #We can see details of a function with ? in the beginning"
      ],
      "execution_count": null,
      "outputs": []
    },
    {
      "cell_type": "code",
      "metadata": {
        "id": "aQ14p3Vors_5",
        "outputId": "2d82ac34-49fb-4fe8-bae9-e6351b3efdf9"
      },
      "source": [
        "print(\"Intro to\",\"Functions\",sep=\"-\") # They're parameters, argumants"
      ],
      "execution_count": null,
      "outputs": [
        {
          "output_type": "stream",
          "text": [
            "Intro to-Functions\n"
          ],
          "name": "stdout"
        }
      ]
    },
    {
      "cell_type": "code",
      "metadata": {
        "id": "SeXPW-yDrs_7",
        "outputId": "dc07b998-494b-4470-a335-f6810d771bfb"
      },
      "source": [
        "len(\"argumant\")"
      ],
      "execution_count": null,
      "outputs": [
        {
          "output_type": "execute_result",
          "data": {
            "text/plain": [
              "8"
            ]
          },
          "metadata": {
            "tags": []
          },
          "execution_count": 6
        }
      ]
    },
    {
      "cell_type": "code",
      "metadata": {
        "id": "XeB7HBgOrs_8",
        "outputId": "22d9578f-f958-449a-d5a5-4c2a86664bf6"
      },
      "source": [
        "2*3 # For multiple 2 values, we use *. We can use a function for it."
      ],
      "execution_count": null,
      "outputs": [
        {
          "output_type": "execute_result",
          "data": {
            "text/plain": [
              "6"
            ]
          },
          "metadata": {
            "tags": []
          },
          "execution_count": 8
        }
      ]
    },
    {
      "cell_type": "code",
      "metadata": {
        "id": "WdepRHOLrs_-"
      },
      "source": [
        "def write_name(name): # Functions can be defined with def\n",
        "    print(name)"
      ],
      "execution_count": null,
      "outputs": []
    },
    {
      "cell_type": "code",
      "metadata": {
        "id": "Pq1x8oY0rs__",
        "outputId": "0ec6f2d3-8760-46dd-d98c-e103a30e9b25"
      },
      "source": [
        "write_name(\"Berkay\")"
      ],
      "execution_count": null,
      "outputs": [
        {
          "output_type": "stream",
          "text": [
            "Berkay\n"
          ],
          "name": "stdout"
        }
      ]
    },
    {
      "cell_type": "markdown",
      "metadata": {
        "id": "3IK3DXnIrtAA"
      },
      "source": [
        "## return"
      ]
    },
    {
      "cell_type": "code",
      "metadata": {
        "id": "tauSBs-7rtAB"
      },
      "source": [
        "def write_name(name): # Functions can be defined with def\n",
        "    return name"
      ],
      "execution_count": null,
      "outputs": []
    },
    {
      "cell_type": "code",
      "metadata": {
        "id": "Mp5UhdVOrtAC",
        "outputId": "1e2f2584-5b84-4986-e7b7-36f945ceeb8a"
      },
      "source": [
        "write_name(\"Berkay\")"
      ],
      "execution_count": null,
      "outputs": [
        {
          "output_type": "execute_result",
          "data": {
            "text/plain": [
              "'Berkay'"
            ]
          },
          "metadata": {
            "tags": []
          },
          "execution_count": 38
        }
      ]
    },
    {
      "cell_type": "markdown",
      "metadata": {
        "id": "lT591bDYrtAD"
      },
      "source": [
        "## Number of Arguments\n",
        "\n",
        "By default, a function must be called with the correct number of arguments. Meaning that if your function expects 2 arguments, you have to call the function with 2 arguments, not more, and not less."
      ]
    },
    {
      "cell_type": "code",
      "metadata": {
        "id": "tB2HkH04rtAF"
      },
      "source": [
        "def new_function(name,subject):\n",
        "    print(\"Good Luck in your data science adventure\",name,\"Today's subject is \", subject)"
      ],
      "execution_count": null,
      "outputs": []
    },
    {
      "cell_type": "code",
      "metadata": {
        "id": "C38Aq1iUrtAG",
        "outputId": "b6a8e867-e448-44bd-9540-2b49b23e3bc4"
      },
      "source": [
        "new_function(\"Berkay\",\"Functions\")"
      ],
      "execution_count": null,
      "outputs": [
        {
          "output_type": "stream",
          "text": [
            "Good Luck in your data science adventure Berkay Today's subject is  Functions\n"
          ],
          "name": "stdout"
        }
      ]
    },
    {
      "cell_type": "markdown",
      "metadata": {
        "id": "luIEiOoortAH"
      },
      "source": [
        "### Arbitrary Arguments, *args\n",
        "\n",
        "If you do not know how many arguments that will be passed into your function, add a * before the parameter name in the function definition."
      ]
    },
    {
      "cell_type": "code",
      "metadata": {
        "id": "xbekNnLurtAI"
      },
      "source": [
        "def choose_a_kid(*kids):\n",
        "    print(kids[1], \"is chosen!\")"
      ],
      "execution_count": null,
      "outputs": []
    },
    {
      "cell_type": "code",
      "metadata": {
        "id": "gEcj2JOHrtAJ",
        "outputId": "7e657aa1-6d90-4900-ebb2-02c4967e8ed3"
      },
      "source": [
        "choose_a_kid(\"Josh\",\"Kate\",\"Hurry\")"
      ],
      "execution_count": null,
      "outputs": [
        {
          "output_type": "stream",
          "text": [
            "Kate is chosen!\n"
          ],
          "name": "stdout"
        }
      ]
    },
    {
      "cell_type": "code",
      "metadata": {
        "id": "WIl7QcJurtAJ",
        "outputId": "a6625d35-51a1-45ac-dacd-fcd07d32b491"
      },
      "source": [
        "choose_a_kid(\"Josh\",\"Kate\",\"Hurry\",\"Amanda\",\"Jo\",\"Mike\")"
      ],
      "execution_count": null,
      "outputs": [
        {
          "output_type": "stream",
          "text": [
            "Kate is chosen!\n"
          ],
          "name": "stdout"
        }
      ]
    },
    {
      "cell_type": "markdown",
      "metadata": {
        "id": "scfXoYoYrtAK"
      },
      "source": [
        "### Arbitrary Keyword Arguments, **kwargs\n",
        "\n",
        "If you do not know how many keyword arguments that will be passed into your function, add two asterisk: ** before the parameter name in the function definition."
      ]
    },
    {
      "cell_type": "code",
      "metadata": {
        "id": "_O2jKldvrtAL"
      },
      "source": [
        "def choose_a_kid(**kids):\n",
        "    print(kids[\"name1\"], \"is chosen!\")"
      ],
      "execution_count": null,
      "outputs": []
    },
    {
      "cell_type": "code",
      "metadata": {
        "id": "Qft-iuksrtAM",
        "outputId": "fee00347-f43b-4375-bf04-d6306af9e5c2"
      },
      "source": [
        "choose_a_kid(name1= \"Josh\",name2= \"Kate\",name3= \"Hurry\")"
      ],
      "execution_count": null,
      "outputs": [
        {
          "output_type": "stream",
          "text": [
            "Josh is chosen!\n"
          ],
          "name": "stdout"
        }
      ]
    },
    {
      "cell_type": "code",
      "metadata": {
        "id": "de95oqqzrtAN",
        "outputId": "44a4a51d-a290-4108-d3df-4d81b46d1f2f"
      },
      "source": [
        "choose_a_kid(name1= \"Josh\",name2= \"Kate\",name3= \"Hurry\",name4=\"Berkay\")"
      ],
      "execution_count": null,
      "outputs": [
        {
          "output_type": "stream",
          "text": [
            "Josh is chosen!\n"
          ],
          "name": "stdout"
        }
      ]
    },
    {
      "cell_type": "markdown",
      "metadata": {
        "id": "NXxXKP6_rtAO"
      },
      "source": [
        "## Giving output with Information"
      ]
    },
    {
      "cell_type": "code",
      "metadata": {
        "id": "Q08oEK4prtAO"
      },
      "source": [
        "def square(num):\n",
        "    print(\"Square of Input: \", num**2)"
      ],
      "execution_count": null,
      "outputs": []
    },
    {
      "cell_type": "code",
      "metadata": {
        "id": "iM21X4c0rtAP",
        "outputId": "55dc311e-c526-4131-c6d9-1896fb132c77"
      },
      "source": [
        "square(3)"
      ],
      "execution_count": null,
      "outputs": [
        {
          "output_type": "stream",
          "text": [
            "Square of Input:  9\n"
          ],
          "name": "stdout"
        }
      ]
    },
    {
      "cell_type": "code",
      "metadata": {
        "id": "cGEN4JrvrtAQ"
      },
      "source": [
        "def square(num):\n",
        "    print(\"Input: \"+ str(num))\n",
        "    print(\"Square of Input: \"+ str(num**2))"
      ],
      "execution_count": null,
      "outputs": []
    },
    {
      "cell_type": "code",
      "metadata": {
        "id": "nbmm6EH6rtAR",
        "outputId": "d76d0969-2cb8-42ac-a3df-0effc0f9ab32"
      },
      "source": [
        "square(5)"
      ],
      "execution_count": null,
      "outputs": [
        {
          "output_type": "stream",
          "text": [
            "Input: 5\n",
            "Square of Input: 25\n"
          ],
          "name": "stdout"
        }
      ]
    },
    {
      "cell_type": "markdown",
      "metadata": {
        "id": "ZawLKxl6rtAS"
      },
      "source": [
        "## Functions that have 2 parameters"
      ]
    },
    {
      "cell_type": "code",
      "metadata": {
        "id": "mAUTaMx_rtAT"
      },
      "source": [
        "def multiply(num1,num2): # Functions can have multiple parameters\n",
        "    print(num1*num2)"
      ],
      "execution_count": null,
      "outputs": []
    },
    {
      "cell_type": "code",
      "metadata": {
        "id": "jCxZHeIkrtAU",
        "outputId": "bab1d941-5a2f-456f-cdcd-ac320970d422"
      },
      "source": [
        "multiply(5,6)"
      ],
      "execution_count": null,
      "outputs": [
        {
          "output_type": "stream",
          "text": [
            "30\n"
          ],
          "name": "stdout"
        }
      ]
    },
    {
      "cell_type": "code",
      "metadata": {
        "id": "jJlZ6ChsrtAV"
      },
      "source": [
        "def divide(num1,num2): # Functions can have multiple parameters\n",
        "    return (num1/num2)"
      ],
      "execution_count": null,
      "outputs": []
    },
    {
      "cell_type": "code",
      "metadata": {
        "id": "Qw8WMyerrtAW",
        "outputId": "d2fe8b02-760c-4f85-bea0-f4adeb15aefa"
      },
      "source": [
        "divide(9,3)"
      ],
      "execution_count": null,
      "outputs": [
        {
          "output_type": "execute_result",
          "data": {
            "text/plain": [
              "3.0"
            ]
          },
          "metadata": {
            "tags": []
          },
          "execution_count": 44
        }
      ]
    },
    {
      "cell_type": "markdown",
      "metadata": {
        "id": "gMdivFK2rtAW"
      },
      "source": [
        "## Predefined Parameters in Functions"
      ]
    },
    {
      "cell_type": "code",
      "metadata": {
        "id": "2uA8qBbirtAX"
      },
      "source": [
        "def grade(student,note=50): # Predefined Parameters should be in last\n",
        "    print(\"Grade of \",student,\" is\", note)"
      ],
      "execution_count": null,
      "outputs": []
    },
    {
      "cell_type": "code",
      "metadata": {
        "id": "SMPcIhP_rtAY",
        "outputId": "09420ee3-b716-4de5-f974-64d69ced959a"
      },
      "source": [
        "grade(student=\"Amit\")"
      ],
      "execution_count": null,
      "outputs": [
        {
          "output_type": "stream",
          "text": [
            "Grade of  Berkay  is 50\n"
          ],
          "name": "stdout"
        }
      ]
    },
    {
      "cell_type": "code",
      "metadata": {
        "id": "-8kFEK70rtAY",
        "outputId": "6975b9fc-771f-4eba-d8fa-5aa02ca5043b"
      },
      "source": [
        "grade(\"Amit\",note=80)"
      ],
      "execution_count": null,
      "outputs": [
        {
          "output_type": "stream",
          "text": [
            "Grade of  Berkay  is 80\n"
          ],
          "name": "stdout"
        }
      ]
    },
    {
      "cell_type": "markdown",
      "metadata": {
        "id": "Bd3r_wIirtAZ"
      },
      "source": [
        "## Local and Global Variables"
      ]
    },
    {
      "cell_type": "code",
      "metadata": {
        "id": "ZJa_6ofVrtAa"
      },
      "source": [
        "global_x = 10\n",
        "\n",
        "def f2():\n",
        "    local_x = 15\n",
        "    print(\"Local X: \", local_x)"
      ],
      "execution_count": null,
      "outputs": []
    },
    {
      "cell_type": "code",
      "metadata": {
        "id": "Ljw2_TeqrtAb",
        "outputId": "f665ccbf-5f6d-4664-e04b-91cab3570d75"
      },
      "source": [
        "f2()"
      ],
      "execution_count": null,
      "outputs": [
        {
          "output_type": "stream",
          "text": [
            "Local X:  15\n"
          ],
          "name": "stdout"
        }
      ]
    },
    {
      "cell_type": "code",
      "metadata": {
        "id": "O18gw-6frtAb"
      },
      "source": [
        "global_x = 10\n",
        "\n",
        "def f2():\n",
        "    local_x = 15\n",
        "    print(\"Global X: \", global_x)"
      ],
      "execution_count": null,
      "outputs": []
    },
    {
      "cell_type": "code",
      "metadata": {
        "id": "q6BWYVAzrtAc",
        "outputId": "df25d24a-548f-45a0-dbef-13d1554fa18c"
      },
      "source": [
        "f2()"
      ],
      "execution_count": null,
      "outputs": [
        {
          "output_type": "stream",
          "text": [
            "Global X:  10\n"
          ],
          "name": "stdout"
        }
      ]
    },
    {
      "cell_type": "code",
      "metadata": {
        "id": "I_bqkQC2rtAd",
        "outputId": "cefdd659-dc7c-4f9a-9bb3-3bae76748cef"
      },
      "source": [
        "print(global_x) # We can print global x but not local x"
      ],
      "execution_count": null,
      "outputs": [
        {
          "output_type": "stream",
          "text": [
            "10\n"
          ],
          "name": "stdout"
        }
      ]
    },
    {
      "cell_type": "code",
      "metadata": {
        "id": "T8dWlp3grtAd"
      },
      "source": [
        "x = 5\n",
        "y = 7\n",
        "\n",
        "def multiply(x,y):\n",
        "    return x*y"
      ],
      "execution_count": null,
      "outputs": []
    },
    {
      "cell_type": "code",
      "metadata": {
        "id": "2E2N1k44rtAe",
        "outputId": "b93a4c79-a205-4395-dee6-c24ece0bab42"
      },
      "source": [
        "multiply(2,3) # It did not get 5 and 7, because they are global"
      ],
      "execution_count": null,
      "outputs": [
        {
          "output_type": "execute_result",
          "data": {
            "text/plain": [
              "6"
            ]
          },
          "metadata": {
            "tags": []
          },
          "execution_count": 63
        }
      ]
    },
    {
      "cell_type": "markdown",
      "metadata": {
        "id": "Gmbu4yKDrtAf"
      },
      "source": [
        "## Changing global variables in local area"
      ]
    },
    {
      "cell_type": "code",
      "metadata": {
        "id": "-qcD2_p2rtAf"
      },
      "source": [
        "list1 = []"
      ],
      "execution_count": null,
      "outputs": []
    },
    {
      "cell_type": "code",
      "metadata": {
        "id": "lZtMu_dlrtAg"
      },
      "source": [
        "def add_to_list(y):\n",
        "    \n",
        "    global list1\n",
        "    \n",
        "    list1.append(y)"
      ],
      "execution_count": null,
      "outputs": []
    },
    {
      "cell_type": "code",
      "metadata": {
        "id": "HY_4HL4SrtAh"
      },
      "source": [
        "add_to_list(4)"
      ],
      "execution_count": null,
      "outputs": []
    },
    {
      "cell_type": "code",
      "metadata": {
        "id": "3k6YAaaLrtAi",
        "outputId": "3f81799c-10c1-4009-9f28-359f47a90ae0"
      },
      "source": [
        "list1"
      ],
      "execution_count": null,
      "outputs": [
        {
          "output_type": "execute_result",
          "data": {
            "text/plain": [
              "[4]"
            ]
          },
          "metadata": {
            "tags": []
          },
          "execution_count": 67
        }
      ]
    },
    {
      "cell_type": "code",
      "metadata": {
        "id": "_h7tBQBhrtAj"
      },
      "source": [
        "add_to_list(2)"
      ],
      "execution_count": null,
      "outputs": []
    },
    {
      "cell_type": "code",
      "metadata": {
        "id": "5K_KRuGbrtAj",
        "outputId": "6fd73472-6c5b-4ba2-b9cc-9cb86ce77e6d"
      },
      "source": [
        "list1"
      ],
      "execution_count": null,
      "outputs": [
        {
          "output_type": "execute_result",
          "data": {
            "text/plain": [
              "[4, 2]"
            ]
          },
          "metadata": {
            "tags": []
          },
          "execution_count": 69
        }
      ]
    },
    {
      "cell_type": "markdown",
      "metadata": {
        "id": "jeiUCHairtAk"
      },
      "source": [
        "## Pass Statement"
      ]
    },
    {
      "cell_type": "code",
      "metadata": {
        "id": "e8i-VdVYrtAk"
      },
      "source": [
        "def function():\n",
        "    pass"
      ],
      "execution_count": null,
      "outputs": []
    },
    {
      "cell_type": "code",
      "metadata": {
        "id": "KNrYbLEKrtAl"
      },
      "source": [
        "function()"
      ],
      "execution_count": null,
      "outputs": []
    }
  ]
}