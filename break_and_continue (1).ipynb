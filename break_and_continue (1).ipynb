{
  "nbformat": 4,
  "nbformat_minor": 0,
  "metadata": {
    "language_info": {
      "codemirror_mode": {
        "name": "ipython",
        "version": 3
      },
      "file_extension": ".py",
      "mimetype": "text/x-python",
      "name": "python",
      "nbconvert_exporter": "python",
      "pygments_lexer": "ipython3",
      "version": "3.8.5-final"
    },
    "orig_nbformat": 2,
    "kernelspec": {
      "name": "python38564bita6c660d366ad41288ccc0d1156e7cceb",
      "display_name": "Python 3.8.5 64-bit"
    },
    "colab": {
      "name": "break-and-continue.ipynb",
      "provenance": []
    }
  },
  "cells": [
    {
      "cell_type": "markdown",
      "metadata": {
        "id": "nP8TJmqnoi3G"
      },
      "source": [
        "# Break and Continue in a Loop\n",
        "\n",
        "This section introduces the `continue` and `break` statements."
      ]
    },
    {
      "cell_type": "markdown",
      "metadata": {
        "id": "Ax74ibbZoi3R"
      },
      "source": [
        "## 1 Concepts\n",
        "\n",
        "In the code block of a `for` or `while` loop, sometimes you want to skip the processing for certain data. For example, when you divide a number by every element in a list, you want to skip the `0` as a divisor because it crashes the program.  You use the `continue` statement to continue to the next iteration of the loop. The following flow chart describes the continue control flow:\n",
        "\n",
        "![continue](images/continue.jpg)\n",
        "\n",
        "In another situate, in some conditions you want to exit the loop execution. For example, you read input from a user in a loop and the user types an `exit` to exit the loop. You use the `break` statement to break out of the loop. The following flow chart describes the break control flow:\n",
        "\n",
        "![break](images/break.jpg)"
      ]
    },
    {
      "cell_type": "markdown",
      "metadata": {
        "id": "p9NUjVy0oi3U"
      },
      "source": [
        "## 1 `continue` Statement\n",
        "\n",
        "As stated above, you use `continue` statement in a certain condition to skip the current iteration and run the next iteration of the loop."
      ]
    },
    {
      "cell_type": "code",
      "metadata": {
        "tags": [],
        "id": "E7cxvCuvoi3V",
        "colab": {
          "base_uri": "https://localhost:8080/"
        },
        "outputId": "ce46d5e4-8025-4379-fa27-632e3667784a"
      },
      "source": [
        "dividend = 100\n",
        "numbers = [13, 15, 17, 10, 19, 12]\n",
        "\n",
        "for number in numbers:\n",
        "    #for number{temporary variable} in list variable:\n",
        "    print(f'The element is {number}')\n",
        "    #print(number)\n",
        "    if number == 15:\n",
        "        print(f'ooops, 15 cannot be a divisor')\n",
        "        continue #skip this condition\n",
        "    \n",
        "    quotient = dividend / number\n",
        "    print(f'The quotient of {dividend}/{number} is {quotient: .2f}')\n"
      ],
      "execution_count": 8,
      "outputs": [
        {
          "output_type": "stream",
          "text": [
            "The element is 13\n",
            "The quotient of 100/13 is  7.69\n",
            "The element is 15\n",
            "ooops, 15 cannot be a divisor\n",
            "The element is 17\n",
            "The quotient of 100/17 is  5.88\n",
            "The element is 10\n",
            "The quotient of 100/10 is  10.00\n",
            "The element is 19\n",
            "The quotient of 100/19 is  5.26\n",
            "The element is 12\n",
            "The quotient of 100/12 is  8.33\n"
          ],
          "name": "stdout"
        }
      ]
    },
    {
      "cell_type": "markdown",
      "metadata": {
        "id": "LzvXUgYEoi3X"
      },
      "source": [
        "2 The `break` Statement\n",
        "\n",
        "Similar to the `continue` statement, you check a condition that you want exit a loop, if the condition is `true`, you use `break` to exit the loop and jumps to the next element after the loop structure. "
      ]
    },
    {
      "cell_type": "code",
      "metadata": {
        "tags": [],
        "id": "fJ7I_byZoi3Z",
        "colab": {
          "base_uri": "https://localhost:8080/"
        },
        "outputId": "3d2e2dc7-0730-4453-81a9-6ae4990b1e46"
      },
      "source": [
        "dividend = 100\n",
        "numbers = [3, 5, 7, 0, 9, 2]\n",
        "\n",
        "for number in numbers:\n",
        "    print(f'The element is {number}')\n",
        "    if number == 0:\n",
        "        print(f'ooops, zero divisor, clean your data first')\n",
        "        break\n",
        "    \n",
        "    quotient = dividend / number\n",
        "    print(f'The quotient of {dividend}/{number} is {quotient: .2f}')\n",
        "\n",
        "print('Done')"
      ],
      "execution_count": null,
      "outputs": [
        {
          "output_type": "stream",
          "text": [
            "The element is 3\n",
            "The quotient of 100/3 is  33.33\n",
            "The element is 5\n",
            "The quotient of 100/5 is  20.00\n",
            "The element is 7\n",
            "The quotient of 100/7 is  14.29\n",
            "The element is 0\n",
            "ooops, zero divisor, clean your data first\n",
            "Done\n"
          ],
          "name": "stdout"
        }
      ]
    },
    {
      "cell_type": "markdown",
      "metadata": {
        "id": "MimP9DVloi3a"
      },
      "source": [
        "The above code exits from the loop when it sees a `0`. "
      ]
    },
    {
      "cell_type": "markdown",
      "metadata": {
        "id": "2GxSE0SKoi3b"
      },
      "source": [
        "## 3 Use Both `continue` and `break`\n",
        "\n",
        "The following example uses both statements."
      ]
    },
    {
      "cell_type": "code",
      "metadata": {
        "tags": [],
        "id": "YRYB7eHooi3d",
        "colab": {
          "base_uri": "https://localhost:8080/"
        },
        "outputId": "d44d54c2-fbbd-4f37-d998-830ac28473e8"
      },
      "source": [
        "# a sentinel is a special value that marks the end.\n",
        "SENTINEL = -1\n",
        "dividend = 100\n",
        "\n",
        "prompt = f'Please input an integer, input {SENTINEL} to exit: '\n",
        "while True:# true means condition will always be true\n",
        "    number = int(input(prompt))\n",
        "    print(f'The input number is {number}')\n",
        "    if number == 0:\n",
        "        print(f'Zero cannot be a divisor, ignored.')\n",
        "        continue\n",
        "\n",
        "    if number == SENTINEL:\n",
        "        break\n",
        "\n",
        "    # now the normal logic to process the data\n",
        "    quotient = dividend / number\n",
        "    print(f'The quotient of {dividend}/{number} is {quotient: .2f}')\n",
        "\n",
        "print('Done')"
      ],
      "execution_count": 10,
      "outputs": [
        {
          "output_type": "stream",
          "text": [
            "Please input an integer, input -1 to exit: 6\n",
            "The input number is 6\n",
            "The quotient of 100/6 is  16.67\n",
            "Please input an integer, input -1 to exit: -1\n",
            "The input number is -1\n",
            "Done\n"
          ],
          "name": "stdout"
        }
      ]
    },
    {
      "cell_type": "code",
      "metadata": {
        "id": "t0Lbvyj-EsCO"
      },
      "source": [
        "score= 90\n",
        "if score > 80:\n",
        "   pass"
      ],
      "execution_count": 13,
      "outputs": []
    },
    {
      "cell_type": "markdown",
      "metadata": {
        "id": "V-kx9k9Soi3e"
      },
      "source": [
        "The code `while True:` looks weired if it is the first time you see it. It looks like an infinit loop because the condition is always true. For this clause, there must be a `break` statement in the code block to exit the loop at a certain condtion. The code can be revised to get an input first and check the sentinel in the `while` clause. Following is a version that checks the sentinel in `while` clause."
      ]
    },
    {
      "cell_type": "code",
      "metadata": {
        "tags": [
          "outputPrepend"
        ],
        "id": "q-fhZl75oi3f"
      },
      "source": [
        "SENTINEL = -1\n",
        "dividend = 100\n",
        "prompt = f'Please input an integer, input {SENTINEL} to exit: '\n",
        "\n",
        "number = int(input(prompt))\n",
        "while number != SENTINEL:\n",
        "    print(f'The input nubmer is {number}')\n",
        "    if number == 0:\n",
        "        print(f'Zero cannot be a divisor, ignored.')\n",
        "        number = int(input('Please input an integer, input -1 to exit: '))\n",
        "        continue\n",
        "\n",
        "    # now the normal logic to process the data\n",
        "    quotient = dividend / number\n",
        "    print(f'The quotient of {dividend}/{number} is {quotient: .2f}')\n",
        "\n",
        "    # must have code to change the number\n",
        "    number = int(input('Please input an integer, input -1 to exit: '))\n",
        "\n",
        "print('Done')"
      ],
      "execution_count": null,
      "outputs": []
    },
    {
      "cell_type": "markdown",
      "metadata": {
        "id": "c0XHQZVUoi3h"
      },
      "source": [
        "Because we use the `while` cluase `while number != SENTINEL:`, there is no need to use `break` statement. However, we need to read input inside the code block thus the user can input the sentinel value to exit the loop. The two versions have the same behavior, you can use either of them. "
      ]
    }
  ]
}