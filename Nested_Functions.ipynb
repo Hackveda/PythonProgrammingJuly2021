{
  "nbformat": 4,
  "nbformat_minor": 0,
  "metadata": {
    "kernelspec": {
      "display_name": "Python 3",
      "language": "python",
      "name": "python3"
    },
    "language_info": {
      "codemirror_mode": {
        "name": "ipython",
        "version": 3
      },
      "file_extension": ".py",
      "mimetype": "text/x-python",
      "name": "python",
      "nbconvert_exporter": "python",
      "pygments_lexer": "ipython3",
      "version": "3.8.3"
    },
    "colab": {
      "name": "Nested Functions.ipynb",
      "provenance": []
    }
  },
  "cells": [
    {
      "cell_type": "markdown",
      "metadata": {
        "id": "BoPMMvsDsTMO"
      },
      "source": [
        "**Created by Amit Dhomne**\n",
        "\n",
        "**Nested Funtions**\n",
        "\n",
        "*8 of July, 2021*\n"
      ]
    },
    {
      "cell_type": "code",
      "metadata": {
        "id": "hPtAfNhEsTMW"
      },
      "source": [
        "def f1(): \n",
        "    s = 'I love Data Science and python programming'\n",
        "      \n",
        "    def f2(): \n",
        "        print(s+ \"- f2 worked\") \n",
        "          \n",
        "   "
      ],
      "execution_count": 5,
      "outputs": []
    },
    {
      "cell_type": "code",
      "metadata": {
        "colab": {
          "base_uri": "https://localhost:8080/"
        },
        "id": "hL52yPIdsTMY",
        "outputId": "658f5c10-6ec5-4900-a577-24aa618f3e67"
      },
      "source": [
        "f1() "
      ],
      "execution_count": 6,
      "outputs": [
        {
          "output_type": "stream",
          "text": [
            "I love Data Science and python programming- f2 worked\n"
          ],
          "name": "stdout"
        }
      ]
    },
    {
      "cell_type": "code",
      "metadata": {
        "id": "59P6axQNsTMb",
        "outputId": "41d55f2d-bab3-461e-d83d-1c16050fbed4"
      },
      "source": [
        "def function1(number): # outer function\n",
        "    print (\"This is outer function\")\n",
        "    def function2(): # inner function\n",
        "        print (\"This is inner function\")\n",
        "    \n",
        "    if number>5:\n",
        "        return function2()\n",
        "        \n",
        "\n",
        "function1(7)"
      ],
      "execution_count": null,
      "outputs": [
        {
          "output_type": "stream",
          "text": [
            "This is outer function\n",
            "This is inner function\n"
          ],
          "name": "stdout"
        }
      ]
    },
    {
      "cell_type": "code",
      "metadata": {
        "id": "zrpSzxyhsTMc"
      },
      "source": [
        "def is_locked(age,is_working):\n",
        "    print(\"Lockdown against Covid\\n\")\n",
        "    def cant_go_out():\n",
        "        print(\"You can't go out!\")\n",
        "    if age>65:\n",
        "        return cant_go_out()\n",
        "    elif is_working==0:\n",
        "        return cant_go_out()\n",
        "    else:\n",
        "        print(\"You can go out! Hurrraaay! But don't forget to study for python programming:)\")"
      ],
      "execution_count": null,
      "outputs": []
    },
    {
      "cell_type": "code",
      "metadata": {
        "id": "9A2WJXwWsTMd",
        "outputId": "cf360f4a-5a25-4c48-cfdc-e51f50cf0e30"
      },
      "source": [
        "is_locked(20,1)"
      ],
      "execution_count": null,
      "outputs": [
        {
          "output_type": "stream",
          "text": [
            "Lockdown against Covid\n",
            "\n",
            "You can go out! Hurrraaay! But don't forget to study for data science:)\n"
          ],
          "name": "stdout"
        }
      ]
    },
    {
      "cell_type": "code",
      "metadata": {
        "id": "S-Y59M0qsTMe"
      },
      "source": [
        "def calculator():\n",
        "    \n",
        "    num1= int(input(\"Give me the first number: \"))\n",
        "    num2= int(input(\"Give me the second number: \"))\n",
        "    transaction= input(\"Give me the transaction: \")\n",
        "    \n",
        "    def sum(num1,num2):\n",
        "        return num1+num2\n",
        "    def sub(num1,num2):\n",
        "        return num1-num2\n",
        "    def multiplication(num1,num2):\n",
        "        return num1*num2\n",
        "    def dividing(num1,num2):\n",
        "        return num1/num2\n",
        "    \n",
        "    if transaction == \"sum\":\n",
        "        return sum(num1,num2)\n",
        "    if transaction == \"sub\":\n",
        "        return sub(num1,num2)\n",
        "    if transaction == \"multiplication\":\n",
        "        return multiplication(num1,num2)\n",
        "    if transaction == \"dividing\":\n",
        "        return dividing(num1,num2)\n",
        "    else:\n",
        "        print(\"Wrong transaction!\")\n",
        "        "
      ],
      "execution_count": 7,
      "outputs": []
    },
    {
      "cell_type": "code",
      "metadata": {
        "colab": {
          "base_uri": "https://localhost:8080/"
        },
        "id": "PAeHKIaTsTMg",
        "outputId": "822522d9-bc60-4aef-e24a-3ce132089be7"
      },
      "source": [
        "calculator()"
      ],
      "execution_count": 8,
      "outputs": [
        {
          "output_type": "stream",
          "text": [
            "Give me the first number: 20\n",
            "Give me the second number: 5\n",
            "Give me the transaction: dividing\n"
          ],
          "name": "stdout"
        },
        {
          "output_type": "execute_result",
          "data": {
            "text/plain": [
              "4.0"
            ]
          },
          "metadata": {
            "tags": []
          },
          "execution_count": 8
        }
      ]
    },
    {
      "cell_type": "code",
      "metadata": {
        "id": "95sZMG4xsTMh",
        "outputId": "9c9c0aa9-5272-4f37-b483-3fb9d7d98323"
      },
      "source": [
        "def f(x):\n",
        "    \n",
        "    def g():\n",
        "        x= \"inner_function_x\"\n",
        "    \n",
        "    x= x+1 # local variable with respect to fucntion x\n",
        "    print(\"x in function scope f is: \",x)\n",
        "    \n",
        "    a=g()\n",
        "    return x\n",
        "\n",
        "\n",
        "x=3 # global variable with respect to fucntion x\n",
        "z = f(x)\n",
        "print(x)\n"
      ],
      "execution_count": null,
      "outputs": [
        {
          "output_type": "stream",
          "text": [
            "x in function scope f is:  4\n",
            "3\n"
          ],
          "name": "stdout"
        }
      ]
    }
  ]
}